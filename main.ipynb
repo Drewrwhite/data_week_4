{
 "cells": [
  {
   "cell_type": "code",
   "execution_count": null,
   "metadata": {},
   "outputs": [],
   "source": [
    "import pandas as pd\n",
    "\n",
    "spotify_tracks_file = \"./data/spotify_spotify_tracks.csv\"\n",
    "spotify_albums_file = \"./data/spotify_spotify_albums.csv\"\n",
    "spotify_artists_file = \"./data/spotify_spotify_artists.csv\"\n",
    "tracks_df = pd.read_csv(spotify_tracks_file, header=0)\n",
    "albums_df = pd.read_csv(spotify_albums_file, header=0)\n",
    "artists_df = pd.read_csv(spotify_artists_file, header=0)"
   ]
  }
 ],
 "metadata": {
  "kernelspec": {
   "display_name": "Python 3.7.15 ('venv': venv)",
   "language": "python",
   "name": "python3"
  },
  "language_info": {
   "name": "python",
   "version": "3.7.15"
  },
  "orig_nbformat": 4,
  "vscode": {
   "interpreter": {
    "hash": "20810e8ed8c74fcea1caf4bef9739d0ca99ef09a75595a58a54bf231080cf941"
   }
  }
 },
 "nbformat": 4,
 "nbformat_minor": 2
}
